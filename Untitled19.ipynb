{
  "nbformat": 4,
  "nbformat_minor": 0,
  "metadata": {
    "colab": {
      "provenance": [],
      "authorship_tag": "ABX9TyNv2sJiyLNih5tMt04RVdxm",
      "include_colab_link": true
    },
    "kernelspec": {
      "name": "python3",
      "display_name": "Python 3"
    },
    "language_info": {
      "name": "python"
    }
  },
  "cells": [
    {
      "cell_type": "markdown",
      "metadata": {
        "id": "view-in-github",
        "colab_type": "text"
      },
      "source": [
        "<a href=\"https://colab.research.google.com/github/shub2022/Text_classifier_Healthcare/blob/main/Untitled19.ipynb\" target=\"_parent\"><img src=\"https://colab.research.google.com/assets/colab-badge.svg\" alt=\"Open In Colab\"/></a>"
      ]
    },
    {
      "cell_type": "code",
      "execution_count": 36,
      "metadata": {
        "colab": {
          "base_uri": "https://localhost:8080/"
        },
        "id": "8sAJQislQTM8",
        "outputId": "d64196e0-8e9b-465e-d05e-31f7493b102d"
      },
      "outputs": [
        {
          "output_type": "stream",
          "name": "stderr",
          "text": [
            "[nltk_data] Downloading package reuters to /root/nltk_data...\n",
            "[nltk_data]   Package reuters is already up-to-date!\n"
          ]
        }
      ],
      "source": [
        "# All Import Statements Defined Here\n",
        "# Note: Do not add to this list.\n",
        "# ----------------\n",
        "\n",
        "import sys\n",
        "assert sys.version_info[0]==3\n",
        "assert sys.version_info[1] >= 5\n",
        "\n",
        "from platform import python_version\n",
        "assert int(python_version().split(\".\")[1]) >= 5, \"Please upgrade your Python version following the instructions in \\\n",
        "    the README.txt file found in the same directory as this notebook. Your Python version is \" + python_version()\n",
        "\n",
        "\n",
        "from gensim.models import KeyedVectors\n",
        "from gensim.test.utils import datapath\n",
        "import pprint\n",
        "import matplotlib.pyplot as plt\n",
        "plt.rcParams['figure.figsize'] = [10, 5]\n",
        "\n",
        "import nltk\n",
        "nltk.download('reuters') #to specify download location, optionally add the argument: download_dir='/specify/desired/path/'\n",
        "from nltk.corpus import reuters\n",
        "\n",
        "import numpy as np\n",
        "import random\n",
        "import scipy as sp\n",
        "from sklearn.decomposition import TruncatedSVD\n",
        "from sklearn.decomposition import PCA\n",
        "\n",
        "START_TOKEN = '<START>'\n",
        "END_TOKEN = '<END>'\n",
        "\n",
        "np.random.seed(0)\n",
        "random.seed(0)\n",
        "# ----------------"
      ]
    },
    {
      "cell_type": "code",
      "source": [
        "def read_corpus(category=\"gold\"):\n",
        "    \"\"\" Read files from the specified Reuter's category.\n",
        "        Params:\n",
        "            category (string): category name\n",
        "        Return:\n",
        "            list of lists, with words from each of the processed files\n",
        "    \"\"\"\n",
        "    files = reuters.fileids(category)\n",
        "    return [[START_TOKEN] + [w.lower() for w in list(reuters.words(f))] + [END_TOKEN] for f in files]"
      ],
      "metadata": {
        "id": "jlII2btBU-gL"
      },
      "execution_count": 7,
      "outputs": []
    },
    {
      "cell_type": "code",
      "source": [
        "reuters_corpus = read_corpus()\n",
        "pprint.pprint(reuters_corpus[:3], compact=True, width=100)"
      ],
      "metadata": {
        "colab": {
          "base_uri": "https://localhost:8080/"
        },
        "id": "Yc0N05bVU_lB",
        "outputId": "181c52b1-15df-42a3-ba30-b5157f5cd7ee"
      },
      "execution_count": 8,
      "outputs": [
        {
          "output_type": "stream",
          "name": "stdout",
          "text": [
            "[['<START>', 'western', 'mining', 'to', 'open', 'new', 'gold', 'mine', 'in', 'australia', 'western',\n",
            "  'mining', 'corp', 'holdings', 'ltd', '&', 'lt', ';', 'wmng', '.', 's', '>', '(', 'wmc', ')',\n",
            "  'said', 'it', 'will', 'establish', 'a', 'new', 'joint', 'venture', 'gold', 'mine', 'in', 'the',\n",
            "  'northern', 'territory', 'at', 'a', 'cost', 'of', 'about', '21', 'mln', 'dlrs', '.', 'the',\n",
            "  'mine', ',', 'to', 'be', 'known', 'as', 'the', 'goodall', 'project', ',', 'will', 'be', 'owned',\n",
            "  '60', 'pct', 'by', 'wmc', 'and', '40', 'pct', 'by', 'a', 'local', 'w', '.', 'r', '.', 'grace',\n",
            "  'and', 'co', '&', 'lt', ';', 'gra', '>', 'unit', '.', 'it', 'is', 'located', '30', 'kms', 'east',\n",
            "  'of', 'the', 'adelaide', 'river', 'at', 'mt', '.', 'bundey', ',', 'wmc', 'said', 'in', 'a',\n",
            "  'statement', 'it', 'said', 'the', 'open', '-', 'pit', 'mine', ',', 'with', 'a', 'conventional',\n",
            "  'leach', 'treatment', 'plant', ',', 'is', 'expected', 'to', 'produce', 'about', '50', ',', '000',\n",
            "  'ounces', 'of', 'gold', 'in', 'its', 'first', 'year', 'of', 'production', 'from', 'mid', '-',\n",
            "  '1988', '.', 'annual', 'ore', 'capacity', 'will', 'be', 'about', '750', ',', '000', 'tonnes', '.',\n",
            "  '<END>'],\n",
            " ['<START>', 'belgium', 'to', 'issue', 'gold', 'warrants', ',', 'sources', 'say', 'belgium',\n",
            "  'plans', 'to', 'issue', 'swiss', 'franc', 'warrants', 'to', 'buy', 'gold', ',', 'with', 'credit',\n",
            "  'suisse', 'as', 'lead', 'manager', ',', 'market', 'sources', 'said', '.', 'no', 'confirmation',\n",
            "  'or', 'further', 'details', 'were', 'immediately', 'available', '.', '<END>'],\n",
            " ['<START>', 'belgium', 'launches', 'bonds', 'with', 'gold', 'warrants', 'the', 'kingdom', 'of',\n",
            "  'belgium', 'is', 'launching', '100', 'mln', 'swiss', 'francs', 'of', 'seven', 'year', 'notes',\n",
            "  'with', 'warrants', 'attached', 'to', 'buy', 'gold', ',', 'lead', 'mananger', 'credit', 'suisse',\n",
            "  'said', '.', 'the', 'notes', 'themselves', 'have', 'a', '3', '-', '3', '/', '8', 'pct', 'coupon',\n",
            "  'and', 'are', 'priced', 'at', 'par', '.', 'payment', 'is', 'due', 'april', '30', ',', '1987',\n",
            "  'and', 'final', 'maturity', 'april', '30', ',', '1994', '.', 'each', '50', ',', '000', 'franc',\n",
            "  'note', 'carries', '15', 'warrants', '.', 'two', 'warrants', 'are', 'required', 'to', 'allow',\n",
            "  'the', 'holder', 'to', 'buy', '100', 'grammes', 'of', 'gold', 'at', 'a', 'price', 'of', '2', ',',\n",
            "  '450', 'francs', ',', 'during', 'the', 'entire', 'life', 'of', 'the', 'bond', '.', 'the',\n",
            "  'latest', 'gold', 'price', 'in', 'zurich', 'was', '2', ',', '045', '/', '2', ',', '070', 'francs',\n",
            "  'per', '100', 'grammes', '.', '<END>']]\n"
          ]
        }
      ]
    },
    {
      "cell_type": "code",
      "source": [
        "def distinct_words(corpus):\n",
        "  corpus_words=[y for x in corpus for y in x]\n",
        "  corpus_words=list(set(corpus_words))\n",
        "  corpus_words.sort()\n",
        "  return (corpus_words), len((corpus_words))"
      ],
      "metadata": {
        "id": "EMliI-BaVCF6"
      },
      "execution_count": 9,
      "outputs": []
    },
    {
      "cell_type": "code",
      "source": [
        "# ---------------------\n",
        "# Run this sanity check\n",
        "# Note that this not an exhaustive check for correctness.\n",
        "# ---------------------\n",
        "\n",
        "# Define toy corpus\n",
        "test_corpus = [\"{} All that glitters isn't gold {}\".format(START_TOKEN, END_TOKEN).split(\" \"), \"{} All's well that ends well {}\".format(START_TOKEN, END_TOKEN).split(\" \")]\n",
        "test_corpus_words, num_corpus_words = distinct_words(test_corpus)\n",
        "\n",
        "# Correct answers\n",
        "ans_test_corpus_words = sorted([START_TOKEN, \"All\", \"ends\", \"that\", \"gold\", \"All's\", \"glitters\", \"isn't\", \"well\", END_TOKEN])\n",
        "ans_num_corpus_words = len(ans_test_corpus_words)\n",
        "\n",
        "# Test correct number of words\n",
        "assert(num_corpus_words == ans_num_corpus_words), \"Incorrect number of distinct words. Correct: {}. Yours: {}\".format(ans_num_corpus_words, num_corpus_words)\n",
        "\n",
        "# Test correct words\n",
        "assert (test_corpus_words == ans_test_corpus_words), \"Incorrect corpus_words.\\nCorrect: {}\\nYours:   {}\".format(str(ans_test_corpus_words), str(test_corpus_words))\n",
        "\n",
        "# Print Success\n",
        "print (\"-\" * 80)\n",
        "print(\"Passed All Tests!\")\n",
        "print (\"-\" * 80)"
      ],
      "metadata": {
        "colab": {
          "base_uri": "https://localhost:8080/"
        },
        "id": "AatOFjSFXiXP",
        "outputId": "94a025bf-44dd-4e13-9961-f9d3ff666f10"
      },
      "execution_count": 10,
      "outputs": [
        {
          "output_type": "stream",
          "name": "stdout",
          "text": [
            "--------------------------------------------------------------------------------\n",
            "Passed All Tests!\n",
            "--------------------------------------------------------------------------------\n"
          ]
        }
      ]
    },
    {
      "cell_type": "code",
      "source": [
        "def compute_co_occurrence_matrix(corpus, window_size=4):\n",
        "    \"\"\" Compute co-occurrence matrix for the given corpus and window_size (default of 4).\n",
        "\n",
        "        Note: Each word in a document should be at the center of a window. Words near edges will have a smaller\n",
        "              number of co-occurring words.\n",
        "\n",
        "              For example, if we take the document \"<START> All that glitters is not gold <END>\" with window size of 4,\n",
        "              \"All\" will co-occur with \"<START>\", \"that\", \"glitters\", \"is\", and \"not\".\n",
        "\n",
        "        Params:\n",
        "            corpus (list of list of strings): corpus of documents\n",
        "            window_size (int): size of context window\n",
        "        Return:\n",
        "            M (a symmetric numpy matrix of shape (number of unique words in the corpus , number of unique words in the corpus)):\n",
        "                Co-occurence matrix of word counts.\n",
        "                The ordering of the words in the rows/columns should be the same as the ordering of the words given by the distinct_words function.\n",
        "            word2ind (dict): dictionary that maps word to index (i.e. row/column number) for matrix M.\n",
        "    \"\"\"\n",
        "\n",
        "    words, n_words = distinct_words(corpus)\n",
        "    print(words)\n",
        "    M = None\n",
        "    word2ind = {}\n",
        "\n",
        "    ### SOLUTION BEGIN\n",
        "    M=np.zeros((n_words,n_words))\n",
        "    for index,w in enumerate(words):\n",
        "        word2ind[w]= index\n",
        "\n",
        "    for x in corpus:\n",
        "      len_str=len(x)\n",
        "      for i in range(0,len_str):\n",
        "        for win in range(1,window_size+1):\n",
        "          if i-win>=0:\n",
        "            M[word2ind[x[i-win]]][word2ind[x[i]]]+=1\n",
        "          if i+win<len_str:\n",
        "            M[word2ind[x[i+win]]][word2ind[x[i]]]+=1\n",
        "\n",
        "\n",
        "\n",
        "\n",
        "\n",
        "    ### SOLUTION END\n",
        "\n",
        "    return M, word2ind"
      ],
      "metadata": {
        "id": "9CJDfEw-Xi7E"
      },
      "execution_count": 33,
      "outputs": []
    },
    {
      "cell_type": "code",
      "source": [
        "# ---------------------\n",
        "# Run this sanity check\n",
        "# Note that this is not an exhaustive check for correctness.\n",
        "# ---------------------\n",
        "\n",
        "# Define toy corpus and get student's co-occurrence matrix\n",
        "test_corpus = [\"{} All that glitters isn't gold {}\".format(START_TOKEN, END_TOKEN).split(\" \"), \"{} All's well that ends well {}\".format(START_TOKEN, END_TOKEN).split(\" \")]\n",
        "M_test, word2ind_test = compute_co_occurrence_matrix(test_corpus, window_size=1)\n",
        "\n",
        "# Correct M and word2ind\n",
        "M_test_ans = np.array(\n",
        "    [[0., 0., 0., 0., 0., 0., 1., 0., 0., 1.,],\n",
        "     [0., 0., 1., 1., 0., 0., 0., 0., 0., 0.,],\n",
        "     [0., 1., 0., 0., 0., 0., 0., 0., 1., 0.,],\n",
        "     [0., 1., 0., 0., 0., 0., 0., 0., 0., 1.,],\n",
        "     [0., 0., 0., 0., 0., 0., 0., 0., 1., 1.,],\n",
        "     [0., 0., 0., 0., 0., 0., 0., 1., 1., 0.,],\n",
        "     [1., 0., 0., 0., 0., 0., 0., 1., 0., 0.,],\n",
        "     [0., 0., 0., 0., 0., 1., 1., 0., 0., 0.,],\n",
        "     [0., 0., 1., 0., 1., 1., 0., 0., 0., 1.,],\n",
        "     [1., 0., 0., 1., 1., 0., 0., 0., 1., 0.,]]\n",
        ")\n",
        "ans_test_corpus_words = sorted([START_TOKEN, \"All\", \"ends\", \"that\", \"gold\", \"All's\", \"glitters\", \"isn't\", \"well\", END_TOKEN])\n",
        "print(ans_test_corpus_words)\n",
        "word2ind_ans = dict(zip(ans_test_corpus_words, range(len(ans_test_corpus_words))))\n",
        "\n",
        "# Test correct word2ind\n",
        "assert (word2ind_ans == word2ind_test), \"Your word2ind is incorrect:\\nCorrect: {}\\nYours: {}\".format(word2ind_ans, word2ind_test)\n",
        "\n",
        "# Test correct M shape\n",
        "assert (M_test.shape == M_test_ans.shape), \"M matrix has incorrect shape.\\nCorrect: {}\\nYours: {}\".format(M_test.shape, M_test_ans.shape)\n",
        "\n",
        "# Test correct M values\n",
        "for w1 in word2ind_ans.keys():\n",
        "    idx1 = word2ind_ans[w1]\n",
        "    for w2 in word2ind_ans.keys():\n",
        "        idx2 = word2ind_ans[w2]\n",
        "        student = M_test[idx1, idx2]\n",
        "        correct = M_test_ans[idx1, idx2]\n",
        "        if student != correct:\n",
        "            print(\"Correct M:\")\n",
        "            print(M_test_ans)\n",
        "            print(\"Your M: \")\n",
        "            print(M_test)\n",
        "            raise AssertionError(\"Incorrect count at index ({}, {})=({}, {}) in matrix M. Yours has {} but should have {}.\".format(idx1, idx2, w1, w2, student, correct))\n",
        "\n",
        "# Print Success\n",
        "print (\"-\" * 80)\n",
        "print(\"Passed All Tests!\")\n",
        "print (\"-\" * 80)"
      ],
      "metadata": {
        "id": "fHez7UQKj-Ru",
        "outputId": "7c06d779-c513-4f3c-a1af-16e048c11579",
        "colab": {
          "base_uri": "https://localhost:8080/"
        }
      },
      "execution_count": 34,
      "outputs": [
        {
          "output_type": "stream",
          "name": "stdout",
          "text": [
            "['<END>', '<START>', 'All', \"All's\", 'ends', 'glitters', 'gold', \"isn't\", 'that', 'well']\n",
            "['<END>', '<START>', 'All', \"All's\", 'ends', 'glitters', 'gold', \"isn't\", 'that', 'well']\n",
            "--------------------------------------------------------------------------------\n",
            "Passed All Tests!\n",
            "--------------------------------------------------------------------------------\n"
          ]
        }
      ]
    },
    {
      "cell_type": "code",
      "source": [
        "print(word2ind_test)"
      ],
      "metadata": {
        "id": "PVhZKBr3kDoO",
        "outputId": "5559455a-707f-47e9-e7b4-4ff6b05d6a0f",
        "colab": {
          "base_uri": "https://localhost:8080/"
        }
      },
      "execution_count": 37,
      "outputs": [
        {
          "output_type": "stream",
          "name": "stdout",
          "text": [
            "{'<END>': 0, '<START>': 1, 'All': 2, \"All's\": 3, 'ends': 4, 'glitters': 5, 'gold': 6, \"isn't\": 7, 'that': 8, 'well': 9}\n"
          ]
        }
      ]
    },
    {
      "cell_type": "code",
      "source": [
        "def reduce_to_k_dim(M, k=2):\n",
        "    \"\"\" Reduce a co-occurence count matrix of dimensionality (num_corpus_words, num_corpus_words)\n",
        "        to a matrix of dimensionality (num_corpus_words, k) using the following SVD function from Scikit-Learn:\n",
        "            - http://scikit-learn.org/stable/modules/generated/sklearn.decomposition.TruncatedSVD.html\n",
        "\n",
        "        Params:\n",
        "            M (numpy matrix of shape (number of unique words in the corpus , number of unique words in the corpus)): co-occurence matrix of word counts\n",
        "            k (int): embedding size of each word after dimension reduction\n",
        "        Return:\n",
        "            M_reduced (numpy matrix of shape (number of corpus words, k)): matrix of k-dimensioal word embeddings.\n",
        "                    In terms of the SVD from math class, this actually returns U * S\n",
        "    \"\"\"\n",
        "    n_iters = 10     # Use this parameter in your call to `TruncatedSVD`\n",
        "    M_reduced = None\n",
        "    print(\"Running Truncated SVD over %i words...\" % (M.shape[0]))\n",
        "\n",
        "    ### SOLUTION BEGIN\n",
        "    svd = TruncatedSVD(n_components=k, n_iter=n_iters)\n",
        "    M_reduced=svd.fit_transform(M)\n",
        "    ### SOLUTION END\n",
        "\n",
        "    print(\"Done.\")\n",
        "    return M_reduced"
      ],
      "metadata": {
        "id": "x2n2vsZ5ncP9"
      },
      "execution_count": 40,
      "outputs": []
    },
    {
      "cell_type": "code",
      "source": [
        "# ---------------------\n",
        "# Run this sanity check\n",
        "# Note that this is not an exhaustive check for correctness\n",
        "# In fact we only check that your M_reduced has the right dimensions.\n",
        "# ---------------------\n",
        "\n",
        "# Define toy corpus and run student code\n",
        "test_corpus = [\"{} All that glitters isn't gold {}\".format(START_TOKEN, END_TOKEN).split(\" \"), \"{} All's well that ends well {}\".format(START_TOKEN, END_TOKEN).split(\" \")]\n",
        "M_test, word2ind_test = compute_co_occurrence_matrix(test_corpus, window_size=1)\n",
        "M_test_reduced = reduce_to_k_dim(M_test, k=2)\n",
        "\n",
        "# Test proper dimensions\n",
        "assert (M_test_reduced.shape[0] == 10), \"M_reduced has {} rows; should have {}\".format(M_test_reduced.shape[0], 10)\n",
        "assert (M_test_reduced.shape[1] == 2), \"M_reduced has {} columns; should have {}\".format(M_test_reduced.shape[1], 2)\n",
        "\n",
        "# Print Success\n",
        "print (\"-\" * 80)\n",
        "print(\"Passed All Tests!\")\n",
        "print (\"-\" * 80)"
      ],
      "metadata": {
        "id": "krzBPWKA2Lem",
        "outputId": "c4ec2ec3-cf59-4259-a489-3b0b8eab7a5a",
        "colab": {
          "base_uri": "https://localhost:8080/"
        }
      },
      "execution_count": 41,
      "outputs": [
        {
          "output_type": "stream",
          "name": "stdout",
          "text": [
            "['<END>', '<START>', 'All', \"All's\", 'ends', 'glitters', 'gold', \"isn't\", 'that', 'well']\n",
            "Running Truncated SVD over 10 words...\n",
            "Done.\n",
            "--------------------------------------------------------------------------------\n",
            "Passed All Tests!\n",
            "--------------------------------------------------------------------------------\n"
          ]
        }
      ]
    },
    {
      "cell_type": "code",
      "source": [
        "def plot_embeddings(M_reduced, word2ind, words):\n",
        "    \"\"\" Plot in a scatterplot the embeddings of the words specified in the list \"words\".\n",
        "        NOTE: do not plot all the words listed in M_reduced / word2ind.\n",
        "        Include a label next to each point.\n",
        "\n",
        "        Params:\n",
        "            M_reduced (numpy matrix of shape (number of unique words in the corpus , 2)): matrix of 2-dimensioal word embeddings\n",
        "            word2ind (dict): dictionary that maps word to indices for matrix M\n",
        "            words (list of strings): words whose embeddings we want to visualize\n",
        "    \"\"\"\n",
        "\n",
        "    ### SOLUTION BEGIN\n",
        "    for i,type in enumerate(words):\n",
        "      x = M_reduced[i][0]\n",
        "      y = M_reduced[i][1]\n",
        "      plt.scatter(x, y, marker='x', color='red')\n",
        "      plt.text(x+0.003, y+0.003, type, fontsize=9)\n",
        "    plt.show()\n",
        "    ### SOLUTION END"
      ],
      "metadata": {
        "id": "L64wxeuN2gRv"
      },
      "execution_count": 56,
      "outputs": []
    },
    {
      "cell_type": "code",
      "source": [
        "# ---------------------\n",
        "# Run this sanity check\n",
        "# Note that this is not an exhaustive check for correctness.\n",
        "# The plot produced should look like the \"test solution plot\" depicted below.\n",
        "# ---------------------\n",
        "\n",
        "print (\"-\" * 80)\n",
        "print (\"Outputted Plot:\")\n",
        "\n",
        "M_reduced_plot_test = np.array([[1, 1], [-1, -1], [1, -1], [-1, 1], [0, 0]])\n",
        "word2ind_plot_test = {'test1': 0, 'test2': 1, 'test3': 2, 'test4': 3, 'test5': 4}\n",
        "words = ['test1', 'test2', 'test3', 'test4', 'test5']\n",
        "plot_embeddings(M_reduced_plot_test, word2ind_plot_test, words)\n",
        "\n",
        "print (\"-\" * 80)"
      ],
      "metadata": {
        "id": "iPdaIn9r6PVD",
        "outputId": "018d772b-869e-4866-a1b9-9d4360c5b21c",
        "colab": {
          "base_uri": "https://localhost:8080/",
          "height": 497
        }
      },
      "execution_count": 57,
      "outputs": [
        {
          "output_type": "stream",
          "name": "stdout",
          "text": [
            "--------------------------------------------------------------------------------\n",
            "Outputted Plot:\n"
          ]
        },
        {
          "output_type": "display_data",
          "data": {
            "text/plain": [
              "<Figure size 1000x500 with 1 Axes>"
            ],
            "image/png": "[encoded data removed]"
          },
          "metadata": {}
        },
        {
          "output_type": "stream",
          "name": "stdout",
          "text": [
            "--------------------------------------------------------------------------------\n"
          ]
        }
      ]
    },
    {
      "cell_type": "code",
      "source": [
        "# -----------------------------\n",
        "# Run This Cell to Produce Your Plot\n",
        "# ------------------------------\n",
        "reuters_corpus = read_corpus()\n",
        "M_co_occurrence, word2ind_co_occurrence = compute_co_occurrence_matrix(reuters_corpus)\n",
        "M_reduced_co_occurrence = reduce_to_k_dim(M_co_occurrence, k=2)\n",
        "\n",
        "# Rescale (normalize) the rows to make them each of unit-length\n",
        "M_lengths = np.linalg.norm(M_reduced_co_occurrence, axis=1)\n",
        "M_normalized = M_reduced_co_occurrence / M_lengths[:, np.newaxis] # broadcasting\n",
        "\n",
        "words = ['value', 'gold', 'platinum', 'reserves', 'silver', 'metals', 'copper', 'belgium', 'australia', 'china', 'grammes', \"mine\"]\n",
        "\n",
        "plot_embeddings(M_normalized, word2ind_co_occurrence, words)"
      ],
      "metadata": {
        "id": "WcRlad0c6U1C",
        "outputId": "3391bd36-e319-4a31-d95f-8aa1a7756622",
        "colab": {
          "base_uri": "https://localhost:8080/",
          "height": 517
        }
      },
      "execution_count": 58,
      "outputs": [
        {
          "output_type": "stream",
          "name": "stdout",
          "text": [
            "['\"', '&', \"'\", '(', ')', '),', ').', ',', ',\"', ',.', '-', '--', '.', '.\"', '.,', '..', '...', '/', '0', '00', '000', '008', '011', '02', '025', '026', '027', '045', '046', '05', '050', '055', '057', '062', '064', '068', '070', '073', '077', '078', '08', '09', '1', '10', '100', '103', '104', '105', '106', '108', '11', '112', '116', '118', '12', '120', '1200', '123', '127', '129', '13', '130', '132', '133', '139', '14', '140', '141', '145', '15', '150', '151', '158', '16', '160', '161', '163', '166', '17', '170', '171', '172', '177', '18', '183', '185', '187', '1896', '19', '190', '1904', '191', '192', '1926', '193', '1931', '1937', '194', '1955', '1967', '1971', '1978', '1979', '1980', '1981', '1982', '1983', '1984', '1985', '1986', '1987', '1988', '1989', '1990', '1990s', '1991', '1992', '1994', '2', '20', '200', '201', '206', '207', '21', '211', '212', '22', '221', '222', '223', '225', '226', '23', '2354', '237', '24', '240', '243', '244', '25', '250', '251', '257', '26', '262', '265', '266', '268', '27', '28', '29', '293', '2nd', '3', '30', '300', '302', '30th', '31', '32', '320', '322', '33', '342', '35', '350', '355', '36', '360', '368', '37', '374', '375', '38', '380', '39', '390', '392', '3rd', '4', '40', '400', '408', '409', '41', '410', '411', '416', '418', '42', '422', '425', '43', '430', '432', '433', '434', '436', '44', '440', '447', '45', '450', '457', '458', '460', '462', '468', '47', '470', '474', '475', '48', '49', '490', '5', '50', '500', '51', '510', '514', '528', '530', '531', '538', '540', '545', '55', '56', '57', '577', '578', '580', '583', '585', '59', '594', '6', '60', '600', '60th', '61', '611', '612', '62', '626', '627', '63', '638', '64', '640', '65', '650', '653', '66', '666', '669', '67', '671', '678', '686', '69', '692', '693', '698', '7', '70', '700', '706', '708', '71', '72', '73', '730', '74', '749', '75', '750', '754', '756', '757', '76', '765', '77', '777', '778', '779', '78', '785', '79', '8', '80', '800', '805', '8067', '809', '81', '811', '82', '820', '832', '849', '85', '86', '87', '88', '89', '9', '90', '900', '902', '906', '91', '910', '911', '919', '92', '93', '94', '940', '95', '951', '955', '96', '966', '968', '97', '978', '99', '999', ':', ';', '<END>', '<START>', '>', '>,', '>.', '?\"', 'a', 'ab', 'ability', 'able', 'abolished', 'about', 'above', 'abroad', 'absorbed', 'accept', 'accessible', 'accident', 'according', 'accused', 'achieve', 'achieved', 'acknowledged', 'acm', 'acquire', 'acquired', 'acquiring', 'acquisition', 'acquisitions', 'acquistions', 'acre', 'acres', 'across', 'act', 'action', 'activities', 'actual', 'add', 'added', 'adding', 'addition', 'additional', 'address', 'adelaide', 'adh', 'adjacent', 'admiralty', 'adopt', 'advance', 'advanced', 'affair', 'affect', 'affected', 'africa', 'african', 'after', 'ag', 'again', 'against', 'agencies', 'agency', 'aggregate', 'ago', 'agreed', 'agreement', 'agriculture', 'ahead', 'aimed', 'aiming', 'aims', 'alan', 'alaska', 'all', 'alleged', 'alligator', 'allow', 'allowable', 'allowed', 'alluvial', 'almost', 'along', 'already', 'also', 'altered', 'alternative', 'although', 'aluminum', 'amapa', 'amax', 'amenable', 'america', 'american', 'amid', 'among', 'amore', 'amount', 'amounts', 'amselco', 'amx', 'an', 'analyst', 'analysts', 'and', 'andrew', 'angl', 'anglo', 'animals', 'ann', 'anniversary', 'announced', 'announcement', 'announces', 'annual', 'another', 'anti', 'anticipated', 'anticipates', 'anticipation', 'antiquated', 'any', 'apartheid', 'apiece', 'apparent', 'appears', 'apply', 'approach', 'approached', 'appropriate', 'approval', 'approvals', 'approve', 'approved', 'approves', 'approximate', 'approximately', 'april', 'arabia', 'arabian', 'are', 'area', 'areas', 'ariz', 'arizona', 'arms', 'around', 'arrangement', 'arrangements', 'arrest', 'arrested', 'articles', 'as', 'asa', 'asamera', 'asc', 'ascertain', 'asia', 'asked', 'asm', 'assay', 'assayed', 'assaying', 'assays', 'assets', 'associated', 'association', 'assurances', 'astro', 'at', 'attached', 'attempt', 'attempted', 'attend', 'attended', 'attending', 'attention', 'attorney', 'attributed', 'august', 'australia', 'australian', 'authority', 'autumn', 'available', 'average', 'averaged', 'averages', 'averaging', 'away', 'b', 'bachem', 'back', 'bags', 'balance', 'baldwin', 'banda', 'bank', 'bankers', 'bankrupt', 'bankruptcy', 'banks', 'banque', 'baord', 'barney', 'barrett', 'barrick', 'barring', 'bars', 'base', 'based', 'basic', 'basis', 'basket', 'bay', 'bayonet', 'be', 'bearing', 'because', 'becoming', 'been', 'before', 'began', 'begin', 'begun', 'behind', 'being', 'belgian', 'belgium', 'believe', 'believed', 'believes', 'bell', 'bellies', 'below', 'beneath', 'benefiting', 'benefits', 'best', 'better', 'between', 'bh', 'bhp', 'bhpgm', 'bid', 'big', 'biggest', 'bill', 'billion', 'bills', 'bioleaching', 'black', 'bloodstained', 'board', 'boddington', 'body', 'bois', 'boksburg', 'boliden', 'bond', 'bonds', 'boost', 'boosted', 'boosts', 'border', 'borrower', 'bossa', 'boston', 'both', 'bottle', 'bottom', 'bought', 'boundary', 'bourse', 'bp', 'branch', 'brazil', 'break', 'breaking', 'breaks', 'breakthrough', 'breakwater', 'bring', 'brings', 'britain', 'britannia', 'british', 'brkn', 'broad', 'broken', 'brokers', 'brothers', 'brown', 'browns', 'budget', 'build', 'built', 'bulk', 'bullion', 'bullish', 'bulolo', 'bundey', 'buoyant', 'burdensome', 'bureau', 'burro', 'business', 'businessmen', 'busy', 'but', 'buy', 'buyer', 'buyers', 'buying', 'buys', 'bwrlf', 'by', 'cabinet', 'cain', 'calculated', 'calculation', 'calculations', 'calif', 'california', 'call', 'called', 'calls', 'cambior', 'came', 'camp', 'campbell', 'can', 'canada', 'canadian', 'canamax', 'cannon', 'canty', 'capable', 'capacity', 'cape', 'capital', 'carat', 'carbon', 'carbonate', 'carlin', 'carolin', 'carolina', 'carried', 'carries', 'carry', 'carrying', 'case', 'cases', 'cash', 'catalytic', 'catch', 'cattle', 'cause', 'caused', 'causing', 'caution', 'cautiously', 'cbt', 'cch', 'ccimf', 'cds', 'ceased', 'celebrate', 'cenepa', 'cent', 'centers', 'central', 'cents', 'chairman', 'chamber', 'chance', 'change', 'changed', 'character', 'characterised', 'characteristics', 'charge', 'charges', 'chasing', 'cheap', 'cheaper', 'check', 'checked', 'chemical', 'chester', 'chibougamau', 'chibougamu', 'chicago', 'chief', 'china', 'chromite', 'chronowitz', 'cie', 'citibank', 'citicorp', 'citizens', 'city', 'claimed', 'claims', 'clear', 'clearing', 'clients', 'climate', 'clive', 'close', 'closed', 'closely', 'closes', 'cmp', 'co', 'coal', 'coast', 'cohen', 'coin', 'coins', 'collaborated', 'colleagues', 'collected', 'collectors', 'colliery', 'columbia', 'combined', 'come', 'comex', 'commemorate', 'commemorative', 'comment', 'commercial', 'commerzbank', 'commission', 'commissioned', 'commissions', 'commitment', 'commodities', 'commodity', 'community', 'companies', 'company', 'comparatively', 'compared', 'compares', 'comparisons', 'compete', 'competition', 'competitive', 'complete', 'completed', 'completes', 'completion', 'complex', 'comprise', 'comprised', 'concentrate', 'concentration', 'concern', 'concerned', 'concerns', 'concession', 'conclusions', 'concrete', 'conditional', 'conditionally', 'conditions', 'conducted', 'conference', 'confidence', 'confirmation', 'confirmed', 'confusion', 'conger', 'congress', 'conservatively', 'consider', 'considerable', 'considering', 'consist', 'consisting', 'consists', 'consolidated', 'consolidation', 'constant', 'construct', 'construction', 'consumer', 'contain', 'contained', 'containing', 'contains', 'content', 'contiguous', 'continuation', 'continue', 'continued', 'continuing', 'continuous', 'continuously', 'contract', 'contracts', 'contribute', 'contributions', 'control', 'controlled', 'controls', 'contruction', 'conventional', 'cooperation', 'copies', 'copper', 'cornucopia', 'coronation', 'corp', 'correct', 'corrected', 'correction', 'corrects', 'corresponding', 'cost', 'costs', 'cotton', 'could', 'council', 'countries', 'country', 'county', 'coupon', 'court', 'cove', 'covered', 'covering', 'covers', 'create', 'created', 'creation', 'credit', 'creditors', 'creek', 'crews', 'crk', 'crlnf', 'crowd', 'crown', 'crude', 'csx', 'cts', 'cubic', 'culpable', 'cure', 'currencies', 'currency', 'current', 'currently', 'custer', 'cut', 'cyanidation', 'd', 'daily', 'dakota', 'dampen', 'damper', 'date', 'day', 'days', 'de', 'deal', 'dealers', 'death', 'debt', 'debts', 'dec', 'decade', 'december', 'decision', 'declared', 'decline', 'declined', 'decreased', 'deep', 'deficit', 'deficits', 'defined', 'defines', 'defrauding', 'deka', 'delivered', 'deliveries', 'delivery', 'demand', 'demanded', 'democratic', 'denominated', 'denominations', 'department', 'depend', 'deposit', 'deposits', 'depth', 'described', 'designate', 'designed', 'despite', 'details', 'detected', 'determine', 'develop', 'developed', 'development', 'developments', 'devised', 'dhahab', 'diamond', 'did', 'died', 'different', 'difficult', 'dillution', 'diplomats', 'direct', 'direction', 'director', 'disagreed', 'disaster', 'disclose', 'discovered', 'discovery', 'discussion', 'disruption', 'disruptions', 'dissatisfaction', 'distance', 'distorted', 'district', 'diversity', 'division', 'dlr', 'dlrs', 'dm', 'do', 'documentation', 'does', 'dollar', 'dollars', 'dome', 'domestic', 'dominated', 'dominick', 'dominion', 'don', 'donalda', 'done', 'donna', 'double', 'dowa', 'down', 'downdip', 'downed', 'downside', 'doyon', 'drawing', 'drawn', 'dredge', 'dredging', 'dried', 'drift', 'drifting', 'drill', 'drilled', 'drillhole', 'drilling', 'drop', 'dropping', 'due', 'during', 'each', 'eagle', 'earlier', 'early', 'earn', 'earned', 'earnings', 'easier', 'east', 'eastern', 'eastward', 'ec', 'echo', 'eco', 'economic', 'economically', 'economies', 'economy', 'ecu', 'ecuadorean', 'ecus', 'effect', 'effective', 'efforts', 'eight', 'either', 'elaborate', 'elders', 'eliminated', 'elimination', 'else', 'elsewhere', 'eluvial', 'ely', 'emerged', 'emergency', 'emerges', 'emerging', 'emperor', 'emphasized', 'employees', 'enable', 'encountered', 'encourage', 'encouraged', 'encouraging', 'end', 'ending', 'endorse', 'ends', 'enhance', 'enough', 'enquiries', 'enriched', 'ensure', 'entering', 'entire', 'entitled', 'entitling', 'environmental', 'epithermal', 'equipment', 'equity', 'equivalent', 'erickson', 'escalated', 'escape', 'escudo', 'especially', 'establish', 'established', 'estimate', 'estimated', 'estimates', 'estimating', 'europe', 'european', 'evaluation', 'even', 'ever', 'every', 'everything', 'evident', 'exaias', 'examine', 'exceed', 'exceeding', 'except', 'exceptional', 'excess', 'exchange', 'exchanges', 'exciting', 'excluded', 'excluding', 'executive', 'executives', 'exercisable', 'exercise', 'exercised', 'exhausted', 'exist', 'existing', 'expand', 'expanding', 'expansion', 'expect', 'expected', 'expects', 'expenditure', 'expenditures', 'exploit', 'exploited', 'exploration', 'explorations', 'explorer', 'explosion', 'explosives', 'export', 'exporting', 'exports', 'extend', 'extended', 'extending', 'extension', 'extensive', 'extent', 'extract', 'extracted', 'extracting', 'extraction', 'eyskens', 'face', 'facilities', 'facility', 'facing', 'fact', 'factor', 'factors', 'failed', 'failure', 'fairbanks', 'fairly', 'falconbridge', 'fall', 'falling', 'falls', 'families', 'far', 'farmers', 'farther', 'faster', 'favorable', 'fears', 'feasability', 'feasibility', 'february', 'federal', 'feels', 'fees', 'feet', 'fell', 'felt', 'few', 'field', 'figure', 'figures', 'filmed', 'final', 'finalization', 'finance', 'financial', 'financials', 'financing', 'find', 'finds', 'fine', 'fined', 'fire', 'firm', 'firmer', 'firming', 'firmness', 'firms', 'first', 'fish', 'fits', 'five', 'fix', 'fixed', 'fixing', 'float', 'floated', 'flotation', 'flow', 'fluctuate', 'fluctuations', 'flurry', 'followed', 'following', 'food', 'foot', 'for', 'force', 'forecast', 'foreign', 'form', 'former', 'forward', 'found', 'foundation', 'founded', 'founding', 'four', 'fraction', 'franc', 'franco', 'francs', 'fraud', 'free', 'friday', 'from', 'front', 'frozen', 'fscn', 'ft', 'full', 'fully', 'fumes', 'fund', 'funded', 'funds', 'funeral', 'further', 'future', 'futures', 'gain', 'gained', 'gains', 'galactic', 'galcf', 'gallium', 'game', 'gap', 'garcia', 'gas', 'gave', 'gbylf', 'gc', 'geduld', 'general', 'generated', 'generating', 'genm', 'geodome', 'geological', 'geologists', 'german', 'germanium', 'germany', 'get', 'gets', 'ggg', 'ghana', 'giant', 'girozentrale', 'give', 'given', 'go', 'goal', 'gobain', 'goedf', 'going', 'gold', 'golden', 'goldfield', 'goldfields', 'goldman', 'goldmine', 'golds', 'goldstrike', 'gonaives', 'gone', 'good', 'goodall', 'goods', 'gooseberry', 'goran', 'gordex', 'gordon', 'gough', 'government', 'gra', 'grace', 'grade', 'graded', 'grades', 'grading', 'grain', 'grains', 'gram', 'grammes', 'grams', 'grand', 'granted', 'gravel', 'great', 'greater', 'greens', 'grew', 'grootvlei', 'gross', 'group', 'growing', 'grown', 'growth', 'guaranteed', 'guaranty', 'guinea', 'gunnar', 'gympie', 'h', 'had', 'haiti', 'haitian', 'half', 'hallmarked', 'halt', 'hamburg', 'hanging', 'happening', 'hardrock', 'harris', 'harry', 'has', 'have', 'haven', 'having', 'he', 'heap', 'heard', 'heavy', 'hecla', 'hedge', 'heilongjiang', 'held', 'helena', 'help', 'hemlo', 'here', 'hermann', 'high', 'higher', 'highest', 'highlighted', 'highly', 'hill', 'hirohito', 'hiroshi', 'his', 'hl', 'hm', 'hofer', 'hog', 'hogs', 'hold', 'holder', 'holders', 'holding', 'holdings', 'holds', 'hole', 'holes', 'home', 'homeland', 'homestake', 'homicide', 'hong', 'hope', 'hopes', 'hostages', 'hostels', 'hour', 'hourly', 'hours', 'house', 'houses', 'housewives', 'housing', 'houston', 'how', 'howard', 'however', 'hundreds', 'i', 'idaho', 'idea', 'ideas', 'identified', 'if', 'ignasio', 'ii', 'illinois', 'immediate', 'immediately', 'impact', 'implications', 'implicit', 'important', 'imported', 'importer', 'imports', 'impose', 'imposed', 'imposes', 'imposing', 'imposition', 'improve', 'improved', 'improvement', 'improving', 'in', 'inc', 'include', 'included', 'including', 'increase', 'increased', 'increases', 'increasing', 'incredible', 'incx', 'index', 'indicate', 'indicated', 'indicates', 'indium', 'indosuez', 'industrial', 'industry', 'inexact', 'inflation', 'inflationary', 'influence', 'influences', 'infrastructure', 'ing', 'initial', 'injured', 'inlet', 'inspiration', 'instability', 'install', 'institutions', 'insurance', 'integration', 'intended', 'intented', 'interest', 'interests', 'intergold', 'interior', 'internally', 'international', 'internationalising', 'intersected', 'intersection', 'intersections', 'intersects', 'interval', 'intervals', 'intervention', 'interview', 'into', 'introduction', 'invest', 'investigation', 'investing', 'investment', 'investments', 'investor', 'investors', 'involved', 'involving', 'inyo', 'iran', 'iranian', 'irc', 'is', 'ishikawa', 'island', 'issue', 'issued', 'issuer', 'issues', 'issuing', 'it', 'items', 'its', 'itself', 'ivanhoe', 'j', 'jailed', 'jan', 'january', 'japan', 'japanese', 'jewellery', 'jobs', 'joe', 'joensson', 'johannesburg', 'john', 'johnny', 'joint', 'jointly', 'jones', 'journalists', 'july', 'jump', 'jumped', 'june', 'jungle', 'just', 'k', 'kazuo', 'ketza', 'key', 'killed', 'kilo', 'kilometer', 'kilometers', 'kilos', 'kina', 'kindled', 'kingdom', 'kingman', 'kingsley', 'kinross', 'kirkland', 'kjell', 'km', 'kms', 'knobbs', 'knowhow', 'known', 'kobe', 'kong', 'korea', 'korean', 'krugerrand', 'labour', 'lac', 'lacana', 'lack', 'lag', 'lake', 'land', 'landesbank', 'languished', 'large', 'larger', 'largest', 'last', 'late', 'later', 'latest', 'latin', 'launched', 'launches', 'launching', 'law', 'lawyers', 'lbs', 'leach', 'leaching', 'lead', 'leader', 'leaders', 'leaf', 'leased', 'least', 'led', 'legal', 'legislation', 'lehman', 'length', 'leonora', 'lesley', 'less', 'lesser', 'let', 'level', 'levels', 'leverage', 'leveraged', 'levied', 'levon', 'li', 'liabilities', 'license', 'lies', 'life', 'lifting', 'like', 'likely', 'limit', 'limited', 'limits', 'lines', 'linked', 'links', 'list', 'listing', 'lists', 'literature', 'little', 'live', 'lived', 'lively', 'livestock', 'local', 'located', 'locates', 'location', 'locations', 'locked', 'london', 'long', 'longer', 'look', 'looking', 'looks', 'losing', 'loss', 'losses', 'lot', 'lots', 'low', 'lower', 'lowest', 'lows', 'lt', 'ltd', 'luxembourg', 'lvnvf', 'lynch', 'lynn', 'm', 'made', 'mahd', 'main', 'mainly', 'maison', 'major', 'majority', 'make', 'makes', 'making', 'management', 'manager', 'managers', 'mananger', 'mandela', 'manitoba', 'mann', 'manner', 'manufactured', 'many', 'maple', 'march', 'margin', 'margins', 'mark', 'marked', 'market', 'marketed', 'markets', 'marks', 'martin', 'marty', 'mascot', 'material', 'mats', 'maturities', 'maturity', 'may', 'maybe', 'mccoy', 'mclaughlin', 'mcneill', 'me', 'means', 'meant', 'measure', 'meeting', 'meets', 'members', 'membership', 'men', 'mercantile', 'merger', 'merrill', 'meston', 'metal', 'metallurgical', 'metals', 'meters', 'methane', 'method', 'methods', 'metres', 'metric', 'mgdvf', 'michael', 'microscopic', 'mid', 'middle', 'might', 'migrant', 'mild', 'mile', 'miles', 'mill', 'milled', 'milling', 'mine', 'mineable', 'mined', 'miner', 'mineral', 'mineralization', 'mineralized', 'minerals', 'miners', 'mines', 'mineworkers', 'minging', 'mining', 'minister', 'ministers', 'ministry', 'mint', 'minted', 'minting', 'misima', 'mistake', 'miune', 'mln', 'model', 'models', 'moderately', 'modern', 'modest', 'monday', 'monetary', 'money', 'mont', 'montagu', 'montana', 'month', 'monthly', 'months', 'more', 'moresby', 'morgan', 'morne', 'morning', 'morobe', 'most', 'mountain', 'mounting', 'move', 'moved', 'movements', 'moves', 'mt', 'much', 'mulls', 'murchison', 'murgold', 'muskeg', 'must', 'my', 'myra', 'na', 'nagano', 'name', 'named', 'narly', 'narrow', 'narrowed', 'nation', 'national', 'nationalist', 'nations', 'nationwide', 'natural', 'nbh', 'nbha', 'near', 'nearby', 'nearing', 'nearly', 'necessary', 'need', 'needed', 'negotiations', 'neill', 'neither', 'nelson', 'nem', 'ner', 'nerco', 'net', 'netherlands', 'nev', 'nevada', 'never', 'new', 'newfoundland', 'newly', 'newmont', 'news', 'newsletter', 'next', 'ngc', 'ngx', 'nicel', 'nickel', 'night', 'nilsson', 'nine', 'nisker', 'no', 'noranda', 'norgold', 'normal', 'north', 'northeast', 'northern', 'northgate', 'northwest', 'northwestern', 'not', 'note', 'noted', 'notes', 'nothing', 'noticeable', 'noting', 'november', 'novo', 'now', 'num', 'number', 'nurukawa', 'o', 'obliged', 'obtain', 'occurred', 'ocean', 'oct', 'october', 'of', 'off', 'offer', 'offered', 'office', 'offices', 'official', 'officially', 'officials', 'offset', 'offshoot', 'often', 'oil', 'ok', 'old', 'on', 'once', 'one', 'ones', 'only', 'ontario', 'opec', 'open', 'opened', 'opening', 'opens', 'operate', 'operated', 'operates', 'operating', 'operation', 'operations', 'operator', 'opinion', 'optimistic', 'option', 'options', 'or', 'ora', 'order', 'ordered', 'orderly', 'ore', 'ores', 'organisation', 'organized', 'original', 'origins', 'osaka', 'other', 'otherwise', 'ounce', 'ounces', 'our', 'out', 'outlook', 'outpace', 'output', 'outside', 'over', 'overall', 'overburden', 'owed', 'own', 'owned', 'owner', 'owners', 'ownership', 'owns', 'oxide', 'oz', 'pachapidiana', 'pacific', 'pacificorp', 'paid', 'palladium', 'panic', 'paper', 'papua', 'par', 'parallel', 'parliament', 'part', 'participant', 'participants', 'particularly', 'partly', 'partner', 'partners', 'partnership', 'past', 'patricia', 'paul', 'paulson', 'pay', 'payback', 'payment', 'pct', 'peak', 'peaks', 'pegasus', 'pending', 'pension', 'pensioners', 'people', 'per', 'percentage', 'performance', 'performed', 'performing', 'period', 'periodic', 'periods', 'periphery', 'permits', 'personal', 'perth', 'peru', 'peseta', 'peter', 'petroleum', 'petromin', 'pgul', 'pgulf', 'phase', 'philosophy', 'physical', 'pickens', 'pillar', 'piog', 'pioneer', 'pioneered', 'pires', 'pit', 'pits', 'place', 'placed', 'placements', 'placer', 'plan', 'planned', 'plans', 'plant', 'plate', 'platinum', 'play', 'plc', 'plus', 'png', 'point', 'pointed', 'points', 'poised', 'police', 'policy', 'political', 'poona', 'pope', 'pork', 'port', 'portfolio', 'portion', 'portland', 'portuguese', 'position', 'positioned', 'positive', 'possible', 'possibly', 'post', 'posted', 'potential', 'pounds', 'ppw', 'practice', 'practise', 'pre', 'precious', 'predicted', 'predicts', 'prefeasibility', 'preliminary', 'premium', 'premiums', 'preproduction', 'presence', 'present', 'presentation', 'preserve', 'president', 'presides', 'press', 'pressure', 'pressures', 'previous', 'previously', 'price', 'priced', 'prices', 'pricing', 'principal', 'principle', 'prior', 'private', 'probable', 'probably', 'problems', 'proceed', 'proceeding', 'process', 'processed', 'processing', 'produce', 'produced', 'producer', 'producers', 'producing', 'product', 'production', 'productive', 'products', 'professional', 'profit', 'profitably', 'profits', 'program', 'progressively', 'prohibitive', 'project', 'projected', 'projection', 'promote', 'prompting', 'pronounced', 'propel', 'properties', 'property', 'proposal', 'proposed', 'proprietary', 'prosecutors', 'prospect', 'prospecting', 'prospects', 'protest', 'protesting', 'prove', 'proved', 'proven', 'provide', 'provided', 'province', 'provincial', 'pty', 'public', 'publicity', 'publish', 'purchase', 'purchased', 'purchases', 'put', 'puts', 'pyongyang', 'quality', 'quantities', 'quantity', 'quarter', 'quartz', 'quebec', 'queen', 'queensland', 'questioned', 'quick', 'quickly', 'quiet', 'quotation', 'quoted', 'r', 'raise', 'raised', 'raising', 'rallies', 'rally', 'rand', 'range', 'ranged', 'ranges', 'ranging', 'rankin', 'rapid', 'rapidly', 'rate', 'rated', 'rates', 'rather', 'ratio', 'raytheon', 're', 'reach', 'reached', 'reaching', 'reaction', 'reactions', 'reaffirmed', 'reagan', 'real', 'realistic', 'really', 'reason', 'reassert', 'recalculated', 'receipt', 'receive', 'received', 'receiving', 'recent', 'recently', 'recognition', 'recommended', 'record', 'recourse', 'recover', 'recovered', 'recoveries', 'recovery', 'red', 'reduced', 'reduction', 'refers', 'refining', 'reflate', 'refusal', 'refuse', 'refused', 'region', 'regional', 'registered', 'regulations', 'regulatory', 'rehabilitation', 'reign', 'rejection', 'related', 'relative', 'relatively', 'released', 'remained', 'remaining', 'remains', 'remarks', 'removal', 'renewed', 'renison', 'renounceable', 'repaid', 'repay', 'replaced', 'report', 'reported', 'reporters', 'reporting', 'reports', 'represent', 'representative', 'representatives', 'represented', 'represents', 'required', 'research', 'reserve', 'reserves', 'residual', 'resistance', 'resolve', 'resource', 'resources', 'respective', 'respectively', 'responds', 'responsible', 'rest', 'result', 'results', 'resumed', 'resurrect', 'retain', 'return', 'returned', 'reuter', 'reuters', 'revenues', 'reverberated', 'review', 'revised', 'rgc', 'rgfj', 'rich', 'richard', 'richest', 'richmond', 'ride', 'ridge', 'ridgeway', 'right', 'rights', 'rise', 'risen', 'rises', 'rising', 'risk', 'river', 'rivers', 'roared', 'rock', 'rocks', 'rome', 'ronald', 'ronnskar', 'rose', 'roughly', 'rouyn', 'royalty', 'rpt', 'rtn', 'run', 'rush', 'rushed', 's', 'sachs', 'safety', 'said', 'sale', 'sales', 'salomon', 'same', 'samples', 'sampling', 'samuel', 'san', 'sangsu', 'santiago', 'saskatchewan', 'satisfactory', 'saturday', 'saudi', 'saw', 'say', 'says', 'scale', 'schedule', 'scheduled', 'scheme', 'schemes', 'science', 'scientific', 'second', 'section', 'securities', 'sedren', 'see', 'seek', 'seems', 'seen', 'sees', 'seize', 'sell', 'selling', 'senior', 'sentiment', 'separate', 'september', 'series', 'set', 'sets', 'setting', 'seven', 'seventh', 'several', 'severe', 'severely', 'sex', 'shaft', 'shafts', 'shandong', 'share', 'shareholder', 'shareholders', 'shares', 'sharp', 'sharply', 'she', 'shearson', 'shift', 'shifted', 'ship', 'shoji', 'sholes', 'shore', 'short', 'should', 'shouted', 'show', 'showed', 'shown', 'shows', 'side', 'sigma', 'sign', 'signed', 'significant', 'significantly', 'silver', 'similar', 'simple', 'since', 'singapore', 'single', 'sit', 'site', 'sites', 'situation', 'six', 'sixth', 'sjg', 'skx', 'skyline', 'sleeper', 'slide', 'slightly', 'slipped', 'slow', 'slowed', 'slowing', 'small', 'smaller', 'smashing', 'smelted', 'smelter', 'smith', 'so', 'soar', 'sold', 'solid', 'some', 'someone', 'somewhere', 'son', 'soon', 'sophisticated', 'sound', 'sources', 'south', 'southeast', 'southeastern', 'southwest', 'sovereign', 'soviet', 'spanish', 'special', 'specific', 'speculation', 'speculative', 'speculators', 'spencer', 'spend', 'spending', 'spent', 'sphinx', 'spike', 'spnxf', 'spokane', 'spokesman', 'sponsored', 'spot', 'spread', 'square', 'ssmc', 'st', 'stabbed', 'stabilisation', 'stabilising', 'stage', 'staged', 'staging', 'stake', 'stakes', 'standard', 'star', 'starrex', 'start', 'started', 'starting', 'starts', 'state', 'stated', 'statement', 'states', 'statutory', 'steadily', 'stearns', 'steelworkers', 'steve', 'stg', 'stibnite', 'still', 'stimulate', 'stimulating', 'stock', 'stocks', 'stood', 'stoppage', 'strategically', 'strike', 'strikes', 'striking', 'stripping', 'strohmeyer', 'strong', 'strongly', 'struck', 'structure', 'studies', 'study', 'subject', 'submission', 'subscribe', 'subsequent', 'subsidiary', 'substantial', 'substantially', 'success', 'successful', 'such', 'suface', 'suffered', 'suffering', 'suffocated', 'suisse', 'sulfide', 'sulphide', 'summer', 'sunbeam', 'sunday', 'supplies', 'supply', 'support', 'supported', 'surface', 'surfrace', 'surplus', 'surrounding', 'survey', 'suspected', 'suspend', 'sweden', 'swedish', 'swindling', 'swiss', 'switching', 'switzerland', 'symbolic', 'syngold', 'system', 't', 'tael', 'tailings', 'take', 'taken', 'takeover', 'talking', 'talks', 'tamborapa', 'target', 'targets', 'tasmania', 'tax', 'taxes', 'teberebie', 'technical', 'technigen', 'techniques', 'technology', 'tedi', 'tedious', 'teles', 'television', 'telfer', 'temporary', 'tender', 'tenth', 'term', 'terminated', 'terms', 'territories', 'territory', 'test', 'tested', 'tests', 'than', 'that', 'the', 'their', 'them', 'themselves', 'then', 'there', 'these', 'they', 'thhe', 'thick', 'thickness', 'thin', 'think', 'third', 'thirty', 'this', 'those', 'though', 'thought', 'thousands', 'threat', 'three', 'threshold', 'through', 'throughout', 'throughput', 'thursday', 'time', 'timely', 'times', 'timmins', 'titles', 'tle', 'to', 'today', 'together', 'tokyo', 'told', 'tomaque', 'tomorrow', 'ton', 'tonnage', 'tonne', 'tonnes', 'tons', 'too', 'tools', 'top', 'toronto', 'total', 'totaled', 'totaling', 'totalled', 'town', 'township', 'toxic', 'toyota', 'trace', 'traced', 'trackless', 'trade', 'traded', 'traders', 'trades', 'trading', 'traditional', 'trans', 'transaction', 'transactions', 'transfer', 'transkei', 'treasury', 'treatable', 'treatment', 'treaty', 'tried', 'troy', 'true', 'trust', 'trying', 'tse', 'tuesday', 'tug', 'tumbled', 'tunnel', 'tunnels', 'turning', 'turnover', 'tvx', 'two', 'tyranex', 'tyranite', 'u', 'udf', 'unable', 'uncertainty', 'und', 'undeground', 'under', 'underground', 'underline', 'underlying', 'undermine', 'underscore', 'understand', 'undertake', 'undertook', 'underwriting', 'underwritten', 'undiluted', 'union', 'unit', 'united', 'unlikely', 'unlimited', 'unmatched', 'unsafe', 'unsecured', 'unstable', 'unsubordinated', 'untapped', 'until', 'unzan', 'up', 'upham', 'uranium', 'us', 'use', 'used', 'uses', 'using', 'usmx', 'usx', 'utah', 'v', 'vaal', 'val', 'valley', 'value', 'valued', 'values', 'vancouver', 'variant', 'varying', 'vehicle', 'vein', 'veins', 'venture', 'vereins', 'versus', 'vertical', 'very', 'vice', 'viceroy', 'vien', 'view', 'virtually', 'visited', 'volatile', 'volatility', 'volatily', 'volcker', 'volume', 'voted', 'vs', 'w', 'waiting', 'wales', 'wall', 'wane', 'want', 'wanted', 'war', 'warm', 'warrant', 'warranted', 'warrants', 'was', 'wash', 'water', 'waver', 'way', 'we', 'weak', 'weaker', 'weakness', 'wednesday', 'wednesdays', 'week', 'weekend', 'weeks', 'weight', 'weighted', 'welcome', 'well', 'wenatchee', 'went', 'were', 'west', 'westbank', 'westdeutsche', 'western', 'westmin', 'what', 'whatever', 'when', 'where', 'which', 'while', 'white', 'who', 'wholly', 'wide', 'width', 'will', 'william', 'winnemucca', 'witbank', 'with', 'within', 'without', 'witte', 'wmc', 'wmng', 'work', 'worker', 'workers', 'working', 'works', 'world', 'worldwide', 'worried', 'worries', 'worrying', 'worth', 'would', 'wouldn', 'x', 'yard', 'yards', 'year', 'yearly', 'years', 'yen', 'yesterday', 'yet', 'yield', 'yielded', 'yields', 'york', 'yorkton', 'you', 'yukon', 'zero', 'zinc', 'zone', 'zones', 'zurich']\n",
            "Running Truncated SVD over 2830 words...\n",
            "Done.\n"
          ]
        },
        {
          "output_type": "display_data",
          "data": {
            "text/plain": [
              "<Figure size 1000x500 with 1 Axes>"
            ],
            "image/png": "[encoded data removed]"
          },
          "metadata": {}
        }
      ]
    },
    {
      "cell_type": "code",
      "source": [],
      "metadata": {
        "id": "Vzbjd8Zh7nK3"
      },
      "execution_count": null,
      "outputs": []
    }
  ]
}